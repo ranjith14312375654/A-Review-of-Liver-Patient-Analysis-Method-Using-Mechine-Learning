{
  "nbformat": 4,
  "nbformat_minor": 0,
  "metadata": {
    "colab": {
      "provenance": []
    },
    "kernelspec": {
      "name": "python3",
      "display_name": "Python 3"
    },
    "language_info": {
      "name": "python"
    }
  },
  "cells": [
    {
      "cell_type": "code",
      "execution_count": null,
      "metadata": {
        "id": "1TJjkgEp6M0L"
      },
      "outputs": [],
      "source": [
        "1\n",
        "2 import pandas as pd\n",
        "3 import numpy as np\n",
        "4 import seaborn as sns\n",
        "5 import matplotlib.pyplot as plt\n",
        "6 from matplotlib import rcParams\n",
        "from scipy import stats"
      ]
    },
    {
      "cell_type": "code",
      "source": [
        "#import the dataset from specified Location data = pd.read_csv('E:/Datascience/Datasets/indian_liver_patient.csv')"
      ],
      "metadata": {
        "id": "uyH88uYo9AKJ"
      },
      "execution_count": null,
      "outputs": []
    },
    {
      "cell_type": "code",
      "source": [
        "#showing the data from top 5\n",
        "data.head()"
      ],
      "metadata": {
        "id": "k0Kmtri19U3b"
      },
      "execution_count": null,
      "outputs": []
    },
    {
      "cell_type": "code",
      "source": [
        "data.info()"
      ],
      "metadata": {
        "id": "RtEDtJtA9kQj"
      },
      "execution_count": null,
      "outputs": []
    },
    {
      "cell_type": "code",
      "source": [
        "data.isnull().any()"
      ],
      "metadata": {
        "id": "GPVBwbBM9wEk"
      },
      "execution_count": null,
      "outputs": []
    },
    {
      "cell_type": "code",
      "source": [
        "data.isnull().sum()"
      ],
      "metadata": {
        "id": "DJBV1OtB97L0"
      },
      "execution_count": null,
      "outputs": []
    },
    {
      "cell_type": "code",
      "source": [
        "#checking for the missing data after cleaning data\n",
        "data['Albumin_and_Globulin_Ratio'] = data.fillna (data['Albumin_and_Globulin_Ratio'].mode()[0])\n",
        "data.isnull().sum()"
      ],
      "metadata": {
        "id": "S-JffvGk-Hd-"
      },
      "execution_count": null,
      "outputs": []
    },
    {
      "cell_type": "code",
      "source": [
        "from sklearn.preprocessing import LabelEncoder 2 lc LabelEncoder() 3 data['gender']= lc.fit_transform(data['gender'])"
      ],
      "metadata": {
        "id": "Bv4W0HAC-X-q"
      },
      "execution_count": null,
      "outputs": []
    },
    {
      "cell_type": "code",
      "source": [
        "2\n",
        "3 data.describe()"
      ],
      "metadata": {
        "id": "7cDijOXx-tJ8"
      },
      "execution_count": null,
      "outputs": []
    },
    {
      "cell_type": "code",
      "source": [
        "1 sns.distplot(data['age'])\n",
        "2 plt.title('Age Distribution Graph\n",
        "3 plt.show()"
      ],
      "metadata": {
        "id": "ofLrFqgU-9kA"
      },
      "execution_count": null,
      "outputs": []
    },
    {
      "cell_type": "code",
      "source": [
        "1 sns.countplot(data['outcome'], hue=data['gender']) 2"
      ],
      "metadata": {
        "id": "GNNXXmkG_LeT"
      },
      "execution_count": null,
      "outputs": []
    },
    {
      "cell_type": "code",
      "source": [
        "1 plt.figure(figsize=(10,7))\n",
        "2 3 sns.heatmap(df.corr(), annot=True)\n",
        "<AxesSubplot:>"
      ],
      "metadata": {
        "id": "qxup8M7i_hqK"
      },
      "execution_count": null,
      "outputs": []
    },
    {
      "cell_type": "code",
      "source": [
        "1 from sklearn.preprocessing import scale\n",
        "2 x_scaled=pd.DataFrame (scale (X), columns=X.columns)\n",
        "1 X_scaled.head()"
      ],
      "metadata": {
        "id": "rSJQnA2e_ssA"
      },
      "execution_count": null,
      "outputs": []
    },
    {
      "cell_type": "code",
      "source": [
        "X=data.iloc[:,:-1] 2 y=data.outcome"
      ],
      "metadata": {
        "id": "VIpmYQ1-_1gk"
      },
      "execution_count": null,
      "outputs": []
    },
    {
      "cell_type": "code",
      "source": [
        "1 from sklearn.model_selection import train_test_split 3 X_train, X_test, y_train, y_test = train_test_split(x_scaled,y, test_size=0.2, random_state=42"
      ],
      "metadata": {
        "id": "I9tOqTuzAFuW"
      },
      "execution_count": null,
      "outputs": []
    },
    {
      "cell_type": "code",
      "source": [
        "1 pip install imblearn"
      ],
      "metadata": {
        "id": "GXX6cWRlAevT"
      },
      "execution_count": null,
      "outputs": []
    },
    {
      "cell_type": "code",
      "source": [
        "1 from imblearn.over_sampling import SMOTE\n",
        "2\n",
        "smote = SMOTE()"
      ],
      "metadata": {
        "id": "ifSMrXwgAiGZ"
      },
      "execution_count": null,
      "outputs": []
    },
    {
      "cell_type": "code",
      "source": [
        "y_train.value_counts()"
      ],
      "metadata": {
        "id": "Z6UVHPghAiJr"
      },
      "execution_count": null,
      "outputs": []
    },
    {
      "cell_type": "code",
      "source": [
        "1 X_train_smote, y_train_smote smote.fit_resample (X_train, y_train)"
      ],
      "metadata": {
        "id": "WxsTnnskAqb7"
      },
      "execution_count": null,
      "outputs": []
    },
    {
      "cell_type": "code",
      "source": [
        "y_train_smote.value_counts()"
      ],
      "metadata": {
        "id": "stYvlJ2mAuCi"
      },
      "execution_count": null,
      "outputs": []
    },
    {
      "cell_type": "code",
      "source": [
        "1 from sklearn.ensemble import RandomForestClassifier\n",
        "2 model1=RandomForestClassifier()\n",
        "3 model1.fit(x_train_smote, y_train_smote)\n",
        "4 y_predict=model1.predict(x_test)\n",
        "5 rfc1-accuracy_score (y_test,y_predict)\n",
        "6 rfc1\n",
        "7 pd.crosstab (y_test, y_predict)\n",
        "8 print(classification_report (y_test, y_predict))"
      ],
      "metadata": {
        "id": "EqoVcWW_A8xI"
      },
      "execution_count": null,
      "outputs": []
    },
    {
      "cell_type": "code",
      "source": [
        "from sklearn.tree import Decision TreeClassifier model4-Decision TreeClassifier()\n",
        "model4.fit(X_train_smote, y_train_smote) y_predict=model4.predict(x_test)\n",
        "dtc1-accuracy_score (y_test,y_predict) dtc1\n",
        "pd.crosstab(y_test,y_predict)\n",
        "print(classification_report (y_test, y_predict))"
      ],
      "metadata": {
        "id": "jpIU_mO0BIns"
      },
      "execution_count": null,
      "outputs": []
    },
    {
      "cell_type": "code",
      "source": [
        "from sklearn.neighbors import KNeighborsClassifier model2=KNeighborsClassifier()\n",
        "model2.fit(X_train_smote, y_train_smote) y_predict = model2.predict(x_test)\n",
        "knn1=(accuracy_score (y_test, y_predict)) knn1\n",
        "pd.crosstab(y_test,y_predict)\n",
        "print(classification_report (y_test, y_predict))"
      ],
      "metadata": {
        "id": "RRSS8FXwBQ4w"
      },
      "execution_count": null,
      "outputs": []
    },
    {
      "cell_type": "code",
      "source": [
        "from sklearn.linear_model import Logistic Regression model5=LogisticRegression()\n",
        "model5.fit(x_train_smote, y_train_smote) y_predict=model5.predict(x_test)\n",
        "logi1=accuracy_score (y_test, y_predict)\n",
        "logil\n",
        "pd.crosstab(y_test,y_predict)\n",
        "print (classification_report (y_test, y_predict))"
      ],
      "metadata": {
        "id": "_clw-I15BdgG"
      },
      "execution_count": null,
      "outputs": []
    },
    {
      "cell_type": "code",
      "source": [
        "1 import tensorflow.keras\n",
        "2 from tensorflow.keras.models import Sequential 3 from tensorflow.keras.layers import Dense"
      ],
      "metadata": {
        "id": "n-r5ai8NBqdn"
      },
      "execution_count": null,
      "outputs": []
    },
    {
      "cell_type": "code",
      "source": [
        "1 # Initialising the ANN\n",
        "2 classifier = Sequential()"
      ],
      "metadata": {
        "id": "wa5whXsTBt8Y"
      },
      "execution_count": null,
      "outputs": []
    },
    {
      "cell_type": "code",
      "source": [
        "1 # Adding the input layer and the first hidden layer\n",
        "2 classifier.add(Dense (units=100, activation='relu', input_dim=10))"
      ],
      "metadata": {
        "id": "At-RhLhlBxMy"
      },
      "execution_count": null,
      "outputs": []
    },
    {
      "cell_type": "code",
      "source": [
        "1 # Adding the second hidden Layer\n",
        "2 classifier.add(Dense (units=50, activation='relu'))"
      ],
      "metadata": {
        "id": "10NiPD7vB0Ne"
      },
      "execution_count": null,
      "outputs": []
    },
    {
      "cell_type": "code",
      "source": [
        "1 # Adding the output layer\n",
        "2 classifier.add(Dense (units=1, activation='sigmoid'))"
      ],
      "metadata": {
        "id": "U1ufnMxXB3xa"
      },
      "execution_count": null,
      "outputs": []
    },
    {
      "cell_type": "code",
      "source": [
        "1 # Compiling the ANN\n",
        "2 classifier.compile(optimizer='adam', loss='binary_crossentropy', metrics=['accuracy'])"
      ],
      "metadata": {
        "id": "KefLB1_QB_7e"
      },
      "execution_count": null,
      "outputs": []
    },
    {
      "cell_type": "code",
      "source": [
        "1 # Fitting the ANN to the Training set\n",
        "2 model_history = classifier.fit(x_train, y_train, batch_size=100, validation_split =0.2, epochs=100)"
      ],
      "metadata": {
        "id": "iPXjESnXCJl9"
      },
      "execution_count": null,
      "outputs": []
    },
    {
      "cell_type": "code",
      "source": [
        "1 #Age Gender Total Bilrubin \"Direct Bilrubin Alkaline Phosphotase 2 model4.predict([[50,1,1.2,0.8,150,70,80,7.2,3.4,0.8])\n",
        "Alanin_Aminotransferase\n",
        "Asparate_Aminotrans"
      ],
      "metadata": {
        "id": "P8MhvxcwCW3D"
      },
      "execution_count": null,
      "outputs": []
    },
    {
      "cell_type": "code",
      "source": [
        "#Age Gender Total_Bilrubin \"Direct_Bilrubin Alkaline Phosphotase 2 model1.predict([[50,1,1.2,0.8,150,70,80,7.2,3.4,0.8]) \"Alanin_Aminotransferase Asparate_Aminotrans"
      ],
      "metadata": {
        "id": "d0L7YrmKCcyC"
      },
      "execution_count": null,
      "outputs": []
    },
    {
      "cell_type": "code",
      "source": [
        "1 #Age Gender Total_Bilrubin Direct_Bilrubin Alkaline Phosphotase- 2 model2.predict([[50,1,1.2,0.8,150,70,80,7.2,3.4,0.8]]) →Alanin_Aminotransferase Asparate_Aminotrans_"
      ],
      "metadata": {
        "id": "LMni9bN1C0mU"
      },
      "execution_count": null,
      "outputs": []
    },
    {
      "cell_type": "code",
      "source": [
        "1 #Age Gender Total_Bilrubin Direct_Bilrubin Alkaline Phosphotase \"Alanin_Aminotransferase Asparate_Aminotrans\n",
        "2 mode15.predict([[42,0,1.2,0.8,240,70,80,7.2,3.4,0.8]])"
      ],
      "metadata": {
        "id": "rKlhdHapC_Uw"
      },
      "execution_count": null,
      "outputs": []
    },
    {
      "cell_type": "code",
      "source": [
        "y_pred = (y_pred > 0.5) y_pred"
      ],
      "metadata": {
        "id": "Q4YB2_RDDUVn"
      },
      "execution_count": null,
      "outputs": []
    },
    {
      "cell_type": "code",
      "source": [
        "1 def predict_exit(sample_value):\n",
        "12345\n",
        "2\n",
        "3\n",
        "# Convert list to numpy array\n",
        "4 sample_value = np.array (sample_value)\n",
        "5\n",
        "# Reshape because sample_value contains only 1 record sample_value = sample_value.reshape(1, -1)\n",
        "6789\n",
        "# Feature Scaling\n",
        "10\n",
        "sample_value = scale(sample_value)\n",
        "11\n",
        "12\n",
        "return classifier.predict(sample_value)\n",
        "1 #Age Gender Total_Bilrubin Direct_Bilrubin Alkaline Phosphotase\n",
        "2 sample_value = [[50,1,1.2,0.8,150,70,80,7.2,3.4,0.8]]\n",
        "3 if predict_exit (sample_value)>0.5: 4 print('Prediction: Liver Patient')\n",
        "5\n",
        "6\n",
        "else:\n",
        "print('Prediction: Healthy ')"
      ],
      "metadata": {
        "id": "pfT7nWP5DVGR"
      },
      "execution_count": null,
      "outputs": []
    },
    {
      "cell_type": "code",
      "source": [
        "1 acc_smote= [['KNN Classifier', knn1], ['RandomForestClassifier', rfc1], ['DecisionTreeClassifier', dtc1], ['Logistic Regression', logi1]]\n",
        "2\n",
        "3 Liverpatient_pred= pd.DataFrame (acc_smote, columns = ['classification models', 'accuracy_score'])\n",
        "4 Liverpatient_pred"
      ],
      "metadata": {
        "id": "0qPuHx_4Drge"
      },
      "execution_count": null,
      "outputs": []
    },
    {
      "cell_type": "code",
      "source": [
        "1 2 plt.xticks(rotation=90)\n",
        "3 plt.title('Classification models & accuracy scores after SMOTE', fontsize=18) 4 sns.barplot(x=\"classification models\", y=\"accuracy_score\", data=Liverpatient_pred, palette =\"Set2\")"
      ],
      "metadata": {
        "id": "dCHLJdWbDwX5"
      },
      "execution_count": null,
      "outputs": []
    },
    {
      "cell_type": "code",
      "source": [
        "1 from sklearn.ensemble import ExtraTreesClassifier\n",
        "2 model-ExtraTreesClassifier()\n",
        "3 model.fit(x,y)"
      ],
      "metadata": {
        "id": "2PLWcTECEA4a"
      },
      "execution_count": null,
      "outputs": []
    },
    {
      "cell_type": "code",
      "source": [
        "model.feature_importances"
      ],
      "metadata": {
        "id": "2eLM9bXIEBoF"
      },
      "execution_count": null,
      "outputs": []
    },
    {
      "cell_type": "code",
      "source": [
        "1 dd=pd.DataFrame (model.feature_importances_, index-X.columns).sort_values(0, ascending=False) 2 dd"
      ],
      "metadata": {
        "id": "xxtrA74EEHTy"
      },
      "execution_count": null,
      "outputs": []
    },
    {
      "cell_type": "code",
      "source": [
        "1 dd.plot(kind='barh', figsize=(7,6)) 2 plt.title(\"FEATURE IMPORTANCE\", fontsize=14)\n",
        "Text(0.5, 1.0, 'FEATURE IMPORTANCE')"
      ],
      "metadata": {
        "id": "nkDeu4FHEOSe"
      },
      "execution_count": null,
      "outputs": []
    },
    {
      "cell_type": "code",
      "source": [
        "1 import joblib 2 joblib.dump (model1, ETC.pk1')"
      ],
      "metadata": {
        "id": "E9RFGUaMEeFX"
      },
      "execution_count": null,
      "outputs": []
    },
    {
      "cell_type": "code",
      "source": [
        "from flask import Flask, render_template, request\n",
        "import numpy as np\n",
        "import pickle"
      ],
      "metadata": {
        "id": "XQAQrrCIEvEu"
      },
      "execution_count": null,
      "outputs": []
    },
    {
      "cell_type": "code",
      "source": [
        "app=Flask (__name_ # our flask app\n",
        "@app.route('/') # rendering the html template\n",
        "def home():\n",
        "return render_template('home.html')\n",
        "@app.route('/predict') # rendering the html template\n",
        "def index() :\n",
        "return render_template(\"index.html\")"
      ],
      "metadata": {
        "id": "jRuqhkN3E1qd"
      },
      "execution_count": null,
      "outputs": []
    },
    {
      "cell_type": "code",
      "source": [
        "@app.route('/data_predict', methods=['POST']) # route for our prediction def predict():\n",
        "age = request.form['age'] # requesting for age data\n",
        "gender = request.form['gender'] # requesting for gender data\n",
        "tb = request.form['tb'] # requesting for Total Bilirubin data\n",
        "db = request.form['db'] # requesting for Direct Bilirubin data\n",
        "ap = request.form['ap'] # requesting for Alkaline Phosphotose data\n",
        "aal = request.form['aal'] # requesting for Alamine Aminotransferase data\n",
        "aa2 = request.form['aa2'] # requesting for Aspartate Aminotransferase data tp = request.form['tp'] # requesting for Total_Protiens data\n",
        "a = request.form['a'] # requesting for Albumin data\n",
        "agr = request.form['agr'] # requesting for Albumin and Globulin Ratio data\n",
        "#coverting data into float format\n",
        "data = [[float(age), float (gender), float(tb), float(db), float (ap), float (aal), float (aa2), float(tp),\n",
        "# Loading model which we saved\n",
        "model = pickle.load(open('liver_analysis.pkl', 'rb'))\n",
        "prediction= model.predict(data)[0]\n",
        "if (prediction == 1):\n",
        "return render_template('noChance.html', prediction='You have a liver desease problem, You must and\n",
        "else:\n",
        "return render_template('chance.html', prediction='You dont have a liver desease problem')\n",
        "if __name__ == '__main__':\n",
        "app.run()"
      ],
      "metadata": {
        "id": "7YTxPPZ4E9lw"
      },
      "execution_count": null,
      "outputs": []
    },
    {
      "cell_type": "code",
      "source": [
        "if_name_ app.run() '__main__':"
      ],
      "metadata": {
        "id": "_qAiYeseE_MD"
      },
      "execution_count": null,
      "outputs": []
    },
    {
      "cell_type": "code",
      "source": [
        "pase) D:\\TheSmartBridge\\Projects \\2. DrugClassification\\Drug * Serving Flask app \"app\" (lazy loading) Environment: production\n",
        "WARNING: This is a development server. Do not use it in a p\n",
        "Use a production WSGI server instead.\n",
        "Debug mode: off\n",
        "Running on http://127.0.0.1:5000/ (Press CTRL+C to quit)"
      ],
      "metadata": {
        "id": "_rBO1pQBFVDL"
      },
      "execution_count": null,
      "outputs": []
    }
  ]
}